{
 "cells": [
  {
   "cell_type": "code",
   "execution_count": 15,
   "metadata": {},
   "outputs": [
    {
     "name": "stdout",
     "output_type": "stream",
     "text": [
      "Once deleted, variables cannot be recovered. Proceed (y/[n])? y\n"
     ]
    }
   ],
   "source": [
    "%reset"
   ]
  },
  {
   "cell_type": "code",
   "execution_count": 16,
   "metadata": {},
   "outputs": [
    {
     "name": "stdout",
     "output_type": "stream",
     "text": [
      "python 3.8.3 (default, Jul  2 2020, 17:30:36) [MSC v.1916 64 bit (AMD64)]\n",
      "numpy 1.19.1\n",
      "pandas 1.1.1\n",
      "matplotlib 3.3.1\n"
     ]
    }
   ],
   "source": [
    "import sys\n",
    "print('python', sys.version)\n",
    "\n",
    "import numpy as np\n",
    "print('numpy', np.__version__)\n",
    "\n",
    "import pandas as pd\n",
    "print('pandas', pd.__version__)\n",
    "\n",
    "import matplotlib as mpl\n",
    "print('matplotlib', mpl.__version__)\n",
    "\n",
    "import matplotlib.pyplot as plt\n",
    "import scipy.stats as sci\n",
    "import glob\n",
    "\n",
    "from IPython.core.interactiveshell import InteractiveShell\n",
    "InteractiveShell.ast_node_interactivity = \"all\""
   ]
  },
  {
   "cell_type": "code",
   "execution_count": 17,
   "metadata": {},
   "outputs": [],
   "source": [
    "# mapping human gene symbol to entrez\n",
    "dat=pd.read_table('data_ori/Sym2Entrez.txt',sep='\\t')\n",
    "dat.columns=['sym','entrez']\n",
    "dat=dat.loc[dat['entrez'].notnull()]\n",
    "dat=dat.loc[dat['sym'].notnull()]\n",
    "dat['entrez']=dat['entrez'].astype(int)\n",
    "\n",
    "e2s=dat.set_index('entrez')\n",
    "e2s_dic=e2s['sym'].to_dict() # e2s_dic={1: 'A1BG', 503538: 'A1BG-AS1',...}"
   ]
  },
  {
   "cell_type": "code",
   "execution_count": 18,
   "metadata": {},
   "outputs": [],
   "source": [
    "def merge_two_gene2(row):\n",
    "    g1=row['g1']\n",
    "    g2=row['g2']\n",
    "    \n",
    "    if g1<g2:\n",
    "        return g1+'_'+g2\n",
    "    else:\n",
    "        return g2+'_'+g1\n",
    "    \n",
    "def merge_two_gene1(row):\n",
    "    g1=row['mut_gene']\n",
    "    g2=row['dep_gene']\n",
    "\n",
    "    if g1<g2:\n",
    "        return g1+'_'+g2\n",
    "    else:\n",
    "        return g2+'_'+g1\n",
    "\n",
    "def get_GS():\n",
    "    SDB=pd.read_table('data_ori/gold_standard_Set/SL_human (synlethalDB).txt',usecols=[1,3,8],header=None,sep='\\t')\n",
    "    SDB.columns=['g1','g2','score']\n",
    "\n",
    "    SDB['g1']=SDB['g1'].map(e2s_dic)\n",
    "    SDB['g2']=SDB['g2'].map(e2s_dic)\n",
    "\n",
    "    SDB=SDB.loc[(SDB['g1'].notnull())&(SDB['g2'].notnull())]\n",
    "    SDB\n",
    "\n",
    "    SDB['mg']=SDB.apply(merge_two_gene2, axis=1)\n",
    "    SDB=SDB.sort_values(by='score', ascending=False)\n",
    "    SDB=SDB.drop(columns=['g1','g2','score'])\n",
    "    GS=SDB.copy()\n",
    "    return GS\n",
    "\n",
    "def get_ALL(tp,W):\n",
    "    a2=pd.read_table('result_SL/{}_M003_I10_{}_Exp_fdr.txt'.format(tp,W), sep='\\t', usecols=[0,1,2,4])\n",
    "    a2['mg']=a2.apply(merge_two_gene1, axis=1)\n",
    "    a2=a2.drop(columns=['mut_gene','dep_gene'])\n",
    "    return a2\n",
    "\n",
    "def f1(r1):\n",
    "    d1=r1['DST=1'][1:-1].replace(\"'\",\"\").split(', ')\n",
    "    d1=[ii for ii in d1 if ii!='']\n",
    "    d2=r1['DST=2'][1:-1].replace(\"'\",\"\").split(', ')\n",
    "    d2=[ii for ii in d2 if ii!='']\n",
    "    it=r1['INIT.'][1:-1].replace(\"'\",\"\").split(', ')\n",
    "    it=[ii for ii in it if ii!='']\n",
    "    \n",
    "    d2m=d1+d2\n",
    "    itm=d1+d2+it\n",
    "    \n",
    "    return pd.Series([itm, d2m, d1],index=['it','d2','d1'])\n",
    "\n",
    "def get_SP(file_name):\n",
    "    crp_KEGG=pd.read_table(file_name,sep='\\t',index_col=0)\n",
    "    crp_KEGG_merged=crp_KEGG.apply(f1, axis=1).reset_index().rename(columns={'index':'MUT'})\n",
    "    crp_KEGG_melt=crp_KEGG_merged.melt(id_vars='MUT', var_name='RP', value_name='SP')\n",
    "\n",
    "    crp_KEGG_m2=pd.DataFrame(columns=['RP','MUT','SP','MUT_SP'])\n",
    "\n",
    "    ind=0\n",
    "    for idx in crp_KEGG_melt.index:\n",
    "        row=crp_KEGG_melt.loc[idx]\n",
    "        for sp in row['SP']:\n",
    "            if row['MUT']<sp:\n",
    "                crp_KEGG_m2.loc[ind]=[row['RP'],row['MUT'],sp, row['MUT']+'_'+sp]\n",
    "            else:\n",
    "                crp_KEGG_m2.loc[ind]=[row['RP'],row['MUT'],sp, sp+'_'+row['MUT']]\n",
    "            ind+=1\n",
    "            \n",
    "    crp_KEGG_m2=crp_KEGG_m2.drop(columns=['MUT','SP'])        \n",
    "    return crp_KEGG_m2"
   ]
  },
  {
   "cell_type": "code",
   "execution_count": 19,
   "metadata": {},
   "outputs": [],
   "source": [
    "def eval_hypergeo(HT,AL,GS,SP):\n",
    "    hypergeo_pval=sci.hypergeom.sf(len(HT),len(AL),len(GS),len(SP))\n",
    "    return [len(HT),len(AL),len(GS),len(SP), hypergeo_pval]"
   ]
  },
  {
   "cell_type": "code",
   "execution_count": 20,
   "metadata": {},
   "outputs": [],
   "source": [
    "def check_tval_pos(mg, AL_df_subset):\n",
    "    if AL_df_subset.loc[AL_df_subset['mg']==mg, 't_val'].iloc[0]>0:\n",
    "        return True\n",
    "    else:\n",
    "        return False\n",
    "    \n",
    "def func_check_tval_pos(SP_df):\n",
    "    AL_df_subset=AL_df.loc[AL_df['mg'].isin(set(SP_df['MUT_SP']))]\n",
    "    SP_pos_df=pd.DataFrame(columns=['RP','MUT_SP'])\n",
    "    for ind, row in SP_df.iterrows():\n",
    "        if check_tval_pos(row['MUT_SP'], AL_df_subset):\n",
    "            SP_pos_df.loc[ind]=list(row)\n",
    "    SP_pos_df.reset_index(drop=True, inplace=True)\n",
    "    return SP_pos_df"
   ]
  },
  {
   "cell_type": "code",
   "execution_count": null,
   "metadata": {},
   "outputs": [],
   "source": []
  },
  {
   "cell_type": "code",
   "execution_count": 21,
   "metadata": {},
   "outputs": [
    {
     "name": "stdout",
     "output_type": "stream",
     "text": [
      "####### CRISPER ## WO\n",
      "81008150\n",
      "389\n",
      "1234\n",
      "1623\n",
      "####### CRISPER ## WI\n",
      "72278365\n",
      "418\n",
      "1322\n",
      "1740\n",
      "####### shRNA ## WO\n",
      "34019928\n",
      "519\n",
      "940\n",
      "1459\n",
      "####### shRNA ## WI\n",
      "31734111\n",
      "480\n",
      "909\n",
      "1389\n"
     ]
    }
   ],
   "source": [
    "GS_init=set(get_GS()['mg'])\n",
    "for TP in ['CRISPER','shRNA']:\n",
    "    for W in ['WO','WI']:\n",
    "        print('#######', TP, '##', W)\n",
    "        a2=pd.read_table('result_SL/{}_M003_I10_{}_Exp_fdr.txt'.format(TP,W), sep='\\t', usecols=[0,1,2,4])\n",
    "        print(len(a2))\n",
    "        SP=a2.loc[(a2['fdr']<0.2)&(a2['t_val']>0)]\n",
    "        print(len(SP))\n",
    "        SP=a2.loc[(a2['fdr']<0.2)&(a2['t_val']<=0)]\n",
    "        print(len(SP))\n",
    "        SP=a2.loc[(a2['fdr']<0.2)]\n",
    "        print(len(SP))\n"
   ]
  },
  {
   "cell_type": "code",
   "execution_count": null,
   "metadata": {},
   "outputs": [],
   "source": []
  },
  {
   "cell_type": "code",
   "execution_count": null,
   "metadata": {
    "scrolled": false
   },
   "outputs": [],
   "source": [
    "tp2tp={'CRISPER':'crp','shRNA':'shr'}\n",
    "\n",
    "GS_init=set(get_GS()['mg'])\n",
    "\n",
    "res_df=pd.DataFrame(columns=['screening','zero_exp','NET','RP','HIT','ALL','GS','SP','hyp_pval'])\n",
    "## WO ==> including zero expression\n",
    "## WI ==> excluding zero expression\n",
    "ind=0\n",
    "\n",
    "HT_dic={}\n",
    "\n",
    "for TP in ['CRISPER','shRNA']:\n",
    "    for W in ['WO','WI']:\n",
    "        AL_df=get_ALL(TP, W)\n",
    "        AL=set(AL_df['mg'])\n",
    "        GS=GS_init & AL\n",
    "        SP=set(AL_df.loc[(AL_df['fdr']<0.2)&(AL_df['t_val']>0), 'mg'])\n",
    "        HT=GS&SP\n",
    "        \n",
    "        HT_dic[(TP,W, 0,'HT')]=HT\n",
    "        HT_dic[(TP,W, 0,'SP')]=SP\n",
    "        \n",
    "        res=eval_hypergeo(HT,AL,GS,SP)\n",
    "        res_df.loc[ind]=[TP,{'WO':'IZ','WI':'EZ'}[W],np.nan,np.nan]+res\n",
    "        ind+=1\n",
    "\n",
    "    for NET in ['KEGG','PPI']:\n",
    "        print('########', TP, NET)\n",
    "        SP_df=get_SP('result_main/{}_diff_table_{}.txt'.format(tp2tp[TP], NET))\n",
    "        print(SP_df)\n",
    "        SP_pos_df=func_check_tval_pos(SP_df)\n",
    "        print(SP_pos_df)\n",
    "        \n",
    "        for RP in ['it','d2','d1']:\n",
    "            SP=set(SP_pos_df.loc[SP_pos_df['RP']==RP,'MUT_SP'])\n",
    "            HT=SP&GS\n",
    "            \n",
    "            HT_dic[(TP,NET, RP,'HT')]=HT\n",
    "            HT_dic[(TP,NET, RP,'SP')]=SP\n",
    "            \n",
    "            res=eval_hypergeo(HT,AL,GS,SP)\n",
    "            res_df.loc[ind]=[TP,{'WO':'IZ','WI':'EZ'}[W],NET,RP]+res\n",
    "            ind+=1"
   ]
  },
  {
   "cell_type": "code",
   "execution_count": null,
   "metadata": {},
   "outputs": [],
   "source": [
    "res_df.to_csv('eval_result/synlethDB_results.txt', sep='\\t')"
   ]
  }
 ],
 "metadata": {
  "kernelspec": {
   "display_name": "Python 3",
   "language": "python",
   "name": "python3"
  },
  "language_info": {
   "codemirror_mode": {
    "name": "ipython",
    "version": 3
   },
   "file_extension": ".py",
   "mimetype": "text/x-python",
   "name": "python",
   "nbconvert_exporter": "python",
   "pygments_lexer": "ipython3",
   "version": "3.8.3"
  },
  "toc": {
   "base_numbering": 1,
   "nav_menu": {},
   "number_sections": true,
   "sideBar": true,
   "skip_h1_title": false,
   "title_cell": "Table of Contents",
   "title_sidebar": "Contents",
   "toc_cell": false,
   "toc_position": {},
   "toc_section_display": true,
   "toc_window_display": false
  },
  "varInspector": {
   "cols": {
    "lenName": 16,
    "lenType": 16,
    "lenVar": 40
   },
   "kernels_config": {
    "python": {
     "delete_cmd_postfix": "",
     "delete_cmd_prefix": "del ",
     "library": "var_list.py",
     "varRefreshCmd": "print(var_dic_list())"
    },
    "r": {
     "delete_cmd_postfix": ") ",
     "delete_cmd_prefix": "rm(",
     "library": "var_list.r",
     "varRefreshCmd": "cat(var_dic_list()) "
    }
   },
   "types_to_exclude": [
    "module",
    "function",
    "builtin_function_or_method",
    "instance",
    "_Feature"
   ],
   "window_display": false
  }
 },
 "nbformat": 4,
 "nbformat_minor": 4
}
