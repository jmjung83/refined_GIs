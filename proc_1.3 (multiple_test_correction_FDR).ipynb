{
 "cells": [
  {
   "cell_type": "code",
   "execution_count": 2,
   "metadata": {},
   "outputs": [
    {
     "name": "stdout",
     "output_type": "stream",
     "text": [
      "python 3.8.3 (default, Jul  2 2020, 17:30:36) [MSC v.1916 64 bit (AMD64)]\n",
      "numpy 1.19.1\n",
      "pandas 1.1.1\n",
      "matplotlib 3.3.1\n"
     ]
    }
   ],
   "source": [
    "import sys\n",
    "print('python', sys.version)\n",
    "\n",
    "import os\n",
    "\n",
    "import numpy as np\n",
    "print('numpy', np.__version__)\n",
    "\n",
    "import pandas as pd\n",
    "print('pandas', pd.__version__)\n",
    "\n",
    "import matplotlib as mpl\n",
    "print('matplotlib', mpl.__version__)\n",
    "\n",
    "import matplotlib.pyplot as plt\n",
    "import scipy.stats\n",
    "\n",
    "from IPython.core.interactiveshell import InteractiveShell\n",
    "InteractiveShell.ast_node_interactivity = \"all\""
   ]
  },
  {
   "cell_type": "code",
   "execution_count": 3,
   "metadata": {},
   "outputs": [],
   "source": [
    "import statsmodels.stats.multitest as mt\n",
    "\n",
    "for file_name in ['shRNA_M003_I10_WO_Exp', 'shRNA_M003_I10_WI_Exp', 'CRISPER_M003_I10_WO_Exp', 'CRISPER_M003_I10_WI_Exp']:\n",
    "    df1=pd.read_table('result_SL/{}.txt'.format(file_name),sep='\\t')\n",
    "    df1=df1.loc[df1['p_val'].notnull()]\n",
    "    df1['fdr']=mt.multipletests(df1['p_val'],method='fdr_bh')[1]\n",
    "    df1.to_csv('result_SL/{}_fdr.txt'.format(file_name),index=False,sep='\\t')"
   ]
  },
  {
   "cell_type": "code",
   "execution_count": null,
   "metadata": {},
   "outputs": [],
   "source": []
  },
  {
   "cell_type": "code",
   "execution_count": 3,
   "metadata": {},
   "outputs": [],
   "source": [
    "df1=pd.read_table('result_SL/CRISPER_M003_I10_WO_Exp_fdr.txt')"
   ]
  },
  {
   "cell_type": "code",
   "execution_count": 4,
   "metadata": {},
   "outputs": [
    {
     "data": {
      "text/html": [
       "<div>\n",
       "<style scoped>\n",
       "    .dataframe tbody tr th:only-of-type {\n",
       "        vertical-align: middle;\n",
       "    }\n",
       "\n",
       "    .dataframe tbody tr th {\n",
       "        vertical-align: top;\n",
       "    }\n",
       "\n",
       "    .dataframe thead th {\n",
       "        text-align: right;\n",
       "    }\n",
       "</style>\n",
       "<table border=\"1\" class=\"dataframe\">\n",
       "  <thead>\n",
       "    <tr style=\"text-align: right;\">\n",
       "      <th></th>\n",
       "      <th>mut_gene</th>\n",
       "      <th>dep_gene</th>\n",
       "      <th>t_val</th>\n",
       "      <th>p_val</th>\n",
       "      <th>fdr</th>\n",
       "    </tr>\n",
       "  </thead>\n",
       "  <tbody>\n",
       "    <tr>\n",
       "      <th>0</th>\n",
       "      <td>A2M</td>\n",
       "      <td>H3C2</td>\n",
       "      <td>-0.13901</td>\n",
       "      <td>0.890180</td>\n",
       "      <td>0.994105</td>\n",
       "    </tr>\n",
       "    <tr>\n",
       "      <th>1</th>\n",
       "      <td>A2M</td>\n",
       "      <td>TMC7</td>\n",
       "      <td>0.26249</td>\n",
       "      <td>0.794344</td>\n",
       "      <td>0.987947</td>\n",
       "    </tr>\n",
       "    <tr>\n",
       "      <th>2</th>\n",
       "      <td>A2M</td>\n",
       "      <td>AUH</td>\n",
       "      <td>-1.28474</td>\n",
       "      <td>0.206635</td>\n",
       "      <td>0.915332</td>\n",
       "    </tr>\n",
       "    <tr>\n",
       "      <th>3</th>\n",
       "      <td>A2M</td>\n",
       "      <td>AQP1</td>\n",
       "      <td>-0.09981</td>\n",
       "      <td>0.921036</td>\n",
       "      <td>0.995886</td>\n",
       "    </tr>\n",
       "    <tr>\n",
       "      <th>4</th>\n",
       "      <td>A2M</td>\n",
       "      <td>COL5A2</td>\n",
       "      <td>-1.20072</td>\n",
       "      <td>0.237278</td>\n",
       "      <td>0.921963</td>\n",
       "    </tr>\n",
       "    <tr>\n",
       "      <th>...</th>\n",
       "      <td>...</td>\n",
       "      <td>...</td>\n",
       "      <td>...</td>\n",
       "      <td>...</td>\n",
       "      <td>...</td>\n",
       "    </tr>\n",
       "    <tr>\n",
       "      <th>81008145</th>\n",
       "      <td>FPGT-TNNI3K</td>\n",
       "      <td>JOSD1</td>\n",
       "      <td>0.14593</td>\n",
       "      <td>0.884485</td>\n",
       "      <td>0.993773</td>\n",
       "    </tr>\n",
       "    <tr>\n",
       "      <th>81008146</th>\n",
       "      <td>FPGT-TNNI3K</td>\n",
       "      <td>PDC</td>\n",
       "      <td>-1.12757</td>\n",
       "      <td>0.264591</td>\n",
       "      <td>0.927342</td>\n",
       "    </tr>\n",
       "    <tr>\n",
       "      <th>81008147</th>\n",
       "      <td>FPGT-TNNI3K</td>\n",
       "      <td>GPALPP1</td>\n",
       "      <td>2.73008</td>\n",
       "      <td>0.008506</td>\n",
       "      <td>0.784183</td>\n",
       "    </tr>\n",
       "    <tr>\n",
       "      <th>81008148</th>\n",
       "      <td>FPGT-TNNI3K</td>\n",
       "      <td>TYRO3</td>\n",
       "      <td>1.13887</td>\n",
       "      <td>0.259580</td>\n",
       "      <td>0.926414</td>\n",
       "    </tr>\n",
       "    <tr>\n",
       "      <th>81008149</th>\n",
       "      <td>FPGT-TNNI3K</td>\n",
       "      <td>CCDC6</td>\n",
       "      <td>-1.37582</td>\n",
       "      <td>0.174610</td>\n",
       "      <td>0.907603</td>\n",
       "    </tr>\n",
       "  </tbody>\n",
       "</table>\n",
       "<p>81008150 rows × 5 columns</p>\n",
       "</div>"
      ],
      "text/plain": [
       "             mut_gene dep_gene    t_val     p_val       fdr\n",
       "0                 A2M     H3C2 -0.13901  0.890180  0.994105\n",
       "1                 A2M     TMC7  0.26249  0.794344  0.987947\n",
       "2                 A2M      AUH -1.28474  0.206635  0.915332\n",
       "3                 A2M     AQP1 -0.09981  0.921036  0.995886\n",
       "4                 A2M   COL5A2 -1.20072  0.237278  0.921963\n",
       "...               ...      ...      ...       ...       ...\n",
       "81008145  FPGT-TNNI3K    JOSD1  0.14593  0.884485  0.993773\n",
       "81008146  FPGT-TNNI3K      PDC -1.12757  0.264591  0.927342\n",
       "81008147  FPGT-TNNI3K  GPALPP1  2.73008  0.008506  0.784183\n",
       "81008148  FPGT-TNNI3K    TYRO3  1.13887  0.259580  0.926414\n",
       "81008149  FPGT-TNNI3K    CCDC6 -1.37582  0.174610  0.907603\n",
       "\n",
       "[81008150 rows x 5 columns]"
      ]
     },
     "execution_count": 4,
     "metadata": {},
     "output_type": "execute_result"
    }
   ],
   "source": [
    "df1"
   ]
  },
  {
   "cell_type": "code",
   "execution_count": null,
   "metadata": {},
   "outputs": [],
   "source": []
  }
 ],
 "metadata": {
  "kernelspec": {
   "display_name": "Python 3",
   "language": "python",
   "name": "python3"
  },
  "language_info": {
   "codemirror_mode": {
    "name": "ipython",
    "version": 3
   },
   "file_extension": ".py",
   "mimetype": "text/x-python",
   "name": "python",
   "nbconvert_exporter": "python",
   "pygments_lexer": "ipython3",
   "version": "3.8.3"
  },
  "toc": {
   "base_numbering": 1,
   "nav_menu": {},
   "number_sections": true,
   "sideBar": true,
   "skip_h1_title": false,
   "title_cell": "Table of Contents",
   "title_sidebar": "Contents",
   "toc_cell": false,
   "toc_position": {},
   "toc_section_display": true,
   "toc_window_display": false
  },
  "varInspector": {
   "cols": {
    "lenName": 16,
    "lenType": 16,
    "lenVar": 40
   },
   "kernels_config": {
    "python": {
     "delete_cmd_postfix": "",
     "delete_cmd_prefix": "del ",
     "library": "var_list.py",
     "varRefreshCmd": "print(var_dic_list())"
    },
    "r": {
     "delete_cmd_postfix": ") ",
     "delete_cmd_prefix": "rm(",
     "library": "var_list.r",
     "varRefreshCmd": "cat(var_dic_list()) "
    }
   },
   "types_to_exclude": [
    "module",
    "function",
    "builtin_function_or_method",
    "instance",
    "_Feature"
   ],
   "window_display": false
  }
 },
 "nbformat": 4,
 "nbformat_minor": 2
}
